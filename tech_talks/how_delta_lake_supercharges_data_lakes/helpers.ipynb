{
 "cells": [
  {
   "cell_type": "markdown",
   "metadata": {},
   "source": [
    "# Supporting User Defined Functions"
   ]
  },
  {
   "cell_type": "code",
   "execution_count": null,
   "metadata": {},
   "outputs": [],
   "source": [
    "# Credits: \n",
    "# Antoine L. Pobux\n",
    "# Gist: https://gist.github.com/Pobux/0c474672b3acd4473d459d3219675ad8\n",
    "# Referenced 7/15/2020\n",
    "\n",
    "def get_printable_size(byte_size):\n",
    "    \"\"\"\n",
    "    A bit is the smallest unit, it's either 0 or 1\n",
    "    1 byte = 1 octet = 8 bits\n",
    "    1 kB = 1 kilobyte = 1000 bytes = 10^3 bytes\n",
    "    1 KiB = 1 kibibyte = 1024 bytes = 2^10 bytes\n",
    "    1 KB = 1 kibibyte OR kilobyte ~= 1024 bytes ~= 2^10 bytes (it usually means 1024 bytes but sometimes it's 1000... ask the sysadmin ;) )\n",
    "    1 kb = 1 kilobits = 1000 bits (this notation should not be used, as it is very confusing)\n",
    "    1 ko = 1 kilooctet = 1000 octets = 1000 bytes = 1 kB\n",
    "    Also Kb seems to be a mix of KB and kb, again it depends on context.\n",
    "    In linux, a byte (B) is composed by a sequence of bits (b). One byte has 256 possible values.\n",
    "    More info : http://www.linfo.org/byte.html\n",
    "    \"\"\"\n",
    "    BASE_SIZE = 1024.00\n",
    "    MEASURE = [\"B\", \"KB\", \"MB\", \"GB\", \"TB\", \"PB\"]\n",
    "\n",
    "    def _fix_size(size, size_index):\n",
    "        if not size:\n",
    "            return \"0\"\n",
    "        elif size_index == 0:\n",
    "            return str(size)\n",
    "        else:\n",
    "            return \"{:.0f}\".format(size)\n",
    "\n",
    "    current_size = byte_size\n",
    "    size_index = 0\n",
    "\n",
    "    while current_size >= BASE_SIZE and len(MEASURE) != size_index:\n",
    "        current_size = current_size / BASE_SIZE\n",
    "        size_index = size_index + 1\n",
    "\n",
    "    size = _fix_size(current_size, size_index)\n",
    "    measure = MEASURE[size_index]\n",
    "    return size + measure"
   ]
  },
  {
   "cell_type": "code",
   "execution_count": 3,
   "metadata": {},
   "outputs": [],
   "source": [
    "import glob\n",
    "import os\n",
    "import datetime\n",
    "\n",
    "def files_in_dir(dir_path, file_ext):\n",
    "    files = glob.glob(f'{dir_path}/*.{file_ext}')\n",
    "    files.sort(key=os.path.getmtime)\n",
    "    \n",
    "    for f in files:\n",
    "        x = os.path.getmtime(f)\n",
    "        x = datetime.datetime.fromtimestamp(x).strftime(\"%Y-%m-%d %H:%M:%S\")\n",
    "        print(f'{get_printable_size(os.path.getsize(f)):8} {x}  {os.path.basename(f)}')\n",
    "\n",
    "    numFiles = os.popen(f'ls -p {dir_path}/*.{file_ext} | egrep -v /$ | wc -l').read().strip()\n",
    "    totalSize = os.popen(f'! du -sh {dir_path} | cut -f1').read().strip()\n",
    "    \n",
    "    print(\"\")\n",
    "    print(f\"Number of file/s: {numFiles} | Total size: {totalSize}\")"
   ]
  },
  {
   "cell_type": "code",
   "execution_count": null,
   "metadata": {},
   "outputs": [],
   "source": []
  }
 ],
 "metadata": {
  "kernelspec": {
   "display_name": "Python 3",
   "language": "python",
   "name": "python3"
  },
  "language_info": {
   "codemirror_mode": {
    "name": "ipython",
    "version": 3
   },
   "file_extension": ".py",
   "mimetype": "text/x-python",
   "name": "python",
   "nbconvert_exporter": "python",
   "pygments_lexer": "ipython3",
   "version": "3.6.8"
  }
 },
 "nbformat": 4,
 "nbformat_minor": 4
}
