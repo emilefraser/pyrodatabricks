{
 "cells": [
  {
   "cell_type": "code",
   "execution_count": null,
   "id": "a5811369",
   "metadata": {
    "tags": []
   },
   "outputs": [],
   "source": [
    "%%sh\n",
    "\n",
    "rm -rf my_models"
   ]
  },
  {
   "cell_type": "code",
   "execution_count": null,
   "id": "3a64f9e6",
   "metadata": {
    "tags": []
   },
   "outputs": [],
   "source": [
    "from datafiles import datafile\n",
    "\n",
    "@datafile(\"my_models/{self.my_key}.yml\", manual=True)\n",
    "class MyModel:\n",
    "\n",
    "    my_key: str\n",
    "    my_value: int = 1"
   ]
  },
  {
   "cell_type": "code",
   "execution_count": null,
   "id": "a7711537",
   "metadata": {
    "tags": []
   },
   "outputs": [],
   "source": [
    "model = MyModel('foo')"
   ]
  },
  {
   "cell_type": "code",
   "execution_count": null,
   "id": "9fffa530",
   "metadata": {
    "tags": []
   },
   "outputs": [
    {
     "data": {
      "text/plain": [
       "1"
      ]
     },
     "execution_count": null,
     "metadata": {},
     "output_type": "execute_result"
    }
   ],
   "source": [
    "model.my_value"
   ]
  },
  {
   "cell_type": "markdown",
   "id": "f1b9730c",
   "metadata": {
    "tags": []
   },
   "source": [
    "# `path`"
   ]
  },
  {
   "cell_type": "code",
   "execution_count": null,
   "id": "37c268b5",
   "metadata": {
    "tags": []
   },
   "outputs": [
    {
     "data": {
      "text/plain": [
       "PosixPath('/Users/Browning/Code/datafiles/notebooks/my_models/foo.yml')"
      ]
     },
     "execution_count": null,
     "metadata": {},
     "output_type": "execute_result"
    }
   ],
   "source": [
    "model.datafile.path"
   ]
  },
  {
   "cell_type": "markdown",
   "id": "2aa1c545",
   "metadata": {
    "tags": []
   },
   "source": [
    "# `exists`"
   ]
  },
  {
   "cell_type": "code",
   "execution_count": null,
   "id": "b569e661",
   "metadata": {
    "tags": []
   },
   "outputs": [
    {
     "data": {
      "text/plain": [
       "False"
      ]
     },
     "execution_count": null,
     "metadata": {},
     "output_type": "execute_result"
    }
   ],
   "source": [
    "model.datafile.exists"
   ]
  },
  {
   "cell_type": "markdown",
   "id": "8f29ffce",
   "metadata": {
    "tags": []
   },
   "source": [
    "# `save()`"
   ]
  },
  {
   "cell_type": "code",
   "execution_count": null,
   "id": "cda025d1",
   "metadata": {
    "tags": []
   },
   "outputs": [],
   "source": [
    "model.datafile.save()"
   ]
  },
  {
   "cell_type": "code",
   "execution_count": null,
   "id": "bd85ed97",
   "metadata": {
    "tags": []
   },
   "outputs": [
    {
     "data": {
      "text/plain": [
       "True"
      ]
     },
     "execution_count": null,
     "metadata": {},
     "output_type": "execute_result"
    }
   ],
   "source": [
    "model.datafile.exists"
   ]
  },
  {
   "cell_type": "markdown",
   "id": "67fc1ff6",
   "metadata": {
    "tags": []
   },
   "source": [
    "# `modified`"
   ]
  },
  {
   "cell_type": "code",
   "execution_count": null,
   "id": "5b63bf0e",
   "metadata": {
    "tags": []
   },
   "outputs": [
    {
     "data": {
      "text/plain": [
       "False"
      ]
     },
     "execution_count": null,
     "metadata": {},
     "output_type": "execute_result"
    }
   ],
   "source": [
    "model.datafile.modified"
   ]
  },
  {
   "cell_type": "code",
   "execution_count": null,
   "id": "7c1dfbbe",
   "metadata": {
    "tags": []
   },
   "outputs": [
    {
     "name": "stdout",
     "output_type": "stream",
     "text": [
      "Overwriting my_models/foo.yml\n"
     ]
    }
   ],
   "source": [
    "%%writefile my_models/foo.yml\n",
    "\n",
    "my_value: 42"
   ]
  },
  {
   "cell_type": "code",
   "execution_count": null,
   "id": "7ea09b91",
   "metadata": {
    "tags": []
   },
   "outputs": [
    {
     "data": {
      "text/plain": [
       "True"
      ]
     },
     "execution_count": null,
     "metadata": {},
     "output_type": "execute_result"
    }
   ],
   "source": [
    "model.datafile.modified"
   ]
  },
  {
   "cell_type": "markdown",
   "id": "cf53f0c8",
   "metadata": {
    "tags": []
   },
   "source": [
    "# `load()`"
   ]
  },
  {
   "cell_type": "code",
   "execution_count": null,
   "id": "795b02d6",
   "metadata": {
    "tags": []
   },
   "outputs": [],
   "source": [
    "model.datafile.load()"
   ]
  },
  {
   "cell_type": "markdown",
   "id": "a6497b94",
   "metadata": {
    "tags": []
   },
   "source": [
    "# `data`"
   ]
  },
  {
   "cell_type": "code",
   "execution_count": null,
   "id": "ec187303",
   "metadata": {
    "tags": []
   },
   "outputs": [
    {
     "data": {
      "text/plain": [
       "ordereddict([('my_value', 42)])"
      ]
     },
     "execution_count": null,
     "metadata": {},
     "output_type": "execute_result"
    }
   ],
   "source": [
    "model.datafile.data"
   ]
  }
 ],
 "metadata": {
  "kernelspec": {
   "display_name": "Python 3",
   "language": "python",
   "name": "python3"
  },
  "language_info": {
   "codemirror_mode": {
    "name": "ipython",
    "version": 3
   },
   "file_extension": ".py",
   "mimetype": "text/x-python",
   "name": "python",
   "nbconvert_exporter": "python",
   "pygments_lexer": "ipython3",
   "version": "3.11.0"
  }
 },
 "nbformat": 4,
 "nbformat_minor": 5
}
